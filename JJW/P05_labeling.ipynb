{
 "cells": [
  {
   "cell_type": "markdown",
   "metadata": {},
   "source": [
    "### 시대별 라벨링\n",
    "\n",
    "활용도를 위해 왕별로 라벨링\n",
    "태조 ~ 철종 : 0 ~ 24\n",
    "\n",
    "라벨링 할만한 단어\n",
    "- 진휼\n",
    "- "
   ]
  },
  {
   "cell_type": "code",
   "execution_count": 1,
   "metadata": {},
   "outputs": [],
   "source": [
    "# '../DATA/txtt_new/' 의 파일 제목의 첫 두글자를 기준으로 분류\n",
    "# - 태조 : 00\n",
    "# {'태조':00, '정종':01, '태종':02, '세종':03, '문종':04, '단종':05, '세조':06, '예종':07, '성종':08, '연산군':09, '중종':10, '인종':11, '명종':12, '선조':13, '광해군':14, '인조':15, '효종':16, '현종':17, '숙종':18, '경종':19, '영조':20, '정조':21, '순조':22, '헌종':23, '철종':24}"
   ]
  },
  {
   "cell_type": "code",
   "execution_count": 4,
   "metadata": {},
   "outputs": [
    {
     "name": "stdout",
     "output_type": "stream",
     "text": [
      "태조 0\n",
      "태조 0\n"
     ]
    }
   ],
   "source": [
    "import os\n",
    "import re\n",
    "\n",
    "dir = '../DATA/txtt_new/'\n",
    "files = os.listdir(dir)\n",
    "\n",
    "king_label = {'태조':0, '정종':1, '태종':2, '세종':3, '문종':4, '단종':5, '세조':6, '예종':7, '성종':8, '연산군':9, '중종':10, '인종':11, '명종':12, '선조':13, '광해군':14, '인조':15, '효종':16, '현종':17, '숙종':18, '경종':19, '영조':20, '정조':21, '순조':22, '헌종':23, '철종':24}\n",
    "\n",
    "for file in files:\n",
    "    # print(file)\n",
    "    king = re.match(r'(..)', file).group()\n",
    "    label = king_label[king]\n",
    "    print(king, label)"
   ]
  },
  {
   "cell_type": "markdown",
   "metadata": {},
   "source": [
    "### 우선 데이터셋을 만들기"
   ]
  },
  {
   "cell_type": "code",
   "execution_count": null,
   "metadata": {},
   "outputs": [],
   "source": [
    "\n"
   ]
  },
  {
   "cell_type": "code",
   "execution_count": null,
   "metadata": {},
   "outputs": [],
   "source": []
  },
  {
   "cell_type": "code",
   "execution_count": null,
   "metadata": {},
   "outputs": [],
   "source": []
  },
  {
   "cell_type": "code",
   "execution_count": null,
   "metadata": {},
   "outputs": [],
   "source": []
  },
  {
   "cell_type": "code",
   "execution_count": null,
   "metadata": {},
   "outputs": [],
   "source": []
  },
  {
   "cell_type": "code",
   "execution_count": null,
   "metadata": {},
   "outputs": [],
   "source": []
  }
 ],
 "metadata": {
  "kernelspec": {
   "display_name": "Torch_NLP",
   "language": "python",
   "name": "python3"
  },
  "language_info": {
   "codemirror_mode": {
    "name": "ipython",
    "version": 3
   },
   "file_extension": ".py",
   "mimetype": "text/x-python",
   "name": "python",
   "nbconvert_exporter": "python",
   "pygments_lexer": "ipython3",
   "version": "3.8.19"
  }
 },
 "nbformat": 4,
 "nbformat_minor": 2
}
