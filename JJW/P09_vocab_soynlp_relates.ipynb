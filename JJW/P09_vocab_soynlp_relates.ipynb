{
 "cells": [
  {
   "cell_type": "code",
   "execution_count": 2,
   "metadata": {},
   "outputs": [],
   "source": [
    "import pandas as pd\n",
    "import numpy as np"
   ]
  },
  {
   "cell_type": "code",
   "execution_count": 5,
   "metadata": {},
   "outputs": [
    {
     "data": {
      "text/html": [
       "<div>\n",
       "<style scoped>\n",
       "    .dataframe tbody tr th:only-of-type {\n",
       "        vertical-align: middle;\n",
       "    }\n",
       "\n",
       "    .dataframe tbody tr th {\n",
       "        vertical-align: top;\n",
       "    }\n",
       "\n",
       "    .dataframe thead th {\n",
       "        text-align: right;\n",
       "    }\n",
       "</style>\n",
       "<table border=\"1\" class=\"dataframe\">\n",
       "  <thead>\n",
       "    <tr style=\"text-align: right;\">\n",
       "      <th></th>\n",
       "      <th>label</th>\n",
       "      <th>year</th>\n",
       "      <th>month</th>\n",
       "      <th>day</th>\n",
       "      <th>text</th>\n",
       "      <th>text_noun</th>\n",
       "    </tr>\n",
       "  </thead>\n",
       "  <tbody>\n",
       "    <tr>\n",
       "      <th>0</th>\n",
       "      <td>3</td>\n",
       "      <td>10</td>\n",
       "      <td>10</td>\n",
       "      <td>10</td>\n",
       "      <td>지신사(知申事) 정흠지(鄭欽之)가 포천(抱川)에 가서 그의 어머니를 뵙고 오기를 ...</td>\n",
       "      <td>['지신사(知申事)', '정흠지(鄭欽之)', '포천(抱川)', '어머니', '뵙고'...</td>\n",
       "    </tr>\n",
       "    <tr>\n",
       "      <th>1</th>\n",
       "      <td>3</td>\n",
       "      <td>10</td>\n",
       "      <td>10</td>\n",
       "      <td>10</td>\n",
       "      <td>병조에서 계하기를,  \"강무(講武)는 군국(軍國)의 중대사(重大事)이온데, 공신(功...</td>\n",
       "      <td>['병조', '계하', '\"강무(講武)', '군국(軍國)', '중대사(重大事)이온데...</td>\n",
       "    </tr>\n",
       "    <tr>\n",
       "      <th>2</th>\n",
       "      <td>3</td>\n",
       "      <td>10</td>\n",
       "      <td>10</td>\n",
       "      <td>10</td>\n",
       "      <td>영평현(永平縣) 굴동(屈洞)에서 머물렀다.</td>\n",
       "      <td>['영평현(永平縣)', '굴동(屈洞)']</td>\n",
       "    </tr>\n",
       "    <tr>\n",
       "      <th>3</th>\n",
       "      <td>3</td>\n",
       "      <td>10</td>\n",
       "      <td>10</td>\n",
       "      <td>11</td>\n",
       "      <td>포천현(抱川縣) 매장원(每場院)에서 머물렀다.</td>\n",
       "      <td>['포천현(抱川縣)', '매장원(每場院)']</td>\n",
       "    </tr>\n",
       "    <tr>\n",
       "      <th>4</th>\n",
       "      <td>3</td>\n",
       "      <td>10</td>\n",
       "      <td>10</td>\n",
       "      <td>11</td>\n",
       "      <td>심한 안개가 끼어 몇 걸음 밖의 사람도 분별하지 못하였다.</td>\n",
       "      <td>['안개', '밖', '사람', '분별']</td>\n",
       "    </tr>\n",
       "  </tbody>\n",
       "</table>\n",
       "</div>"
      ],
      "text/plain": [
       "   label  year  month  day                                               text  \\\n",
       "0      3    10     10   10   지신사(知申事) 정흠지(鄭欽之)가 포천(抱川)에 가서 그의 어머니를 뵙고 오기를 ...   \n",
       "1      3    10     10   10  병조에서 계하기를,  \"강무(講武)는 군국(軍國)의 중대사(重大事)이온데, 공신(功...   \n",
       "2      3    10     10   10                            영평현(永平縣) 굴동(屈洞)에서 머물렀다.   \n",
       "3      3    10     10   11                          포천현(抱川縣) 매장원(每場院)에서 머물렀다.   \n",
       "4      3    10     10   11                   심한 안개가 끼어 몇 걸음 밖의 사람도 분별하지 못하였다.   \n",
       "\n",
       "                                           text_noun  \n",
       "0  ['지신사(知申事)', '정흠지(鄭欽之)', '포천(抱川)', '어머니', '뵙고'...  \n",
       "1  ['병조', '계하', '\"강무(講武)', '군국(軍國)', '중대사(重大事)이온데...  \n",
       "2                             ['영평현(永平縣)', '굴동(屈洞)']  \n",
       "3                           ['포천현(抱川縣)', '매장원(每場院)']  \n",
       "4                            ['안개', '밖', '사람', '분별']  "
      ]
     },
     "execution_count": 5,
     "metadata": {},
     "output_type": "execute_result"
    }
   ],
   "source": [
    "file3 = pd.read_csv('../DATA/king_3_date.csv', encoding='utf-8', sep=';')\n",
    "file3.head()"
   ]
  },
  {
   "cell_type": "code",
   "execution_count": null,
   "metadata": {},
   "outputs": [],
   "source": [
    "# vocab 생성\n",
    "vocab = {}\n",
    "for words in file3['text_noun']:\n",
    "    for word in words:\n",
    "        if word not in vocab:\n",
    "            vocab[word] = 0\n",
    "        vocab[word] += 1\n",
    "print(vocab)"
   ]
  },
  {
   "cell_type": "markdown",
   "metadata": {},
   "source": [
    "### Soynlp를 통한 연관성 분석"
   ]
  },
  {
   "cell_type": "code",
   "execution_count": null,
   "metadata": {},
   "outputs": [],
   "source": [
    "# 연관성 확인\n",
    "from soynlp.vectorizer import sent_to_word_contexts_matrix\n",
    "\n",
    "token = file3['text_noun'].tolist()\n",
    "tokenizer = lambda x: x\n",
    "\n",
    "# 문장을 단어로 분리\n",
    "word_contexts, idx2vocab = sent_to_word_contexts_matrix(token, windows=3, min_tf=10, tokenizer=tokenizer)\n",
    "\n",
    "print(f'단어별 문맥 : {word_contexts.shape}')\n",
    "\n",
    "# 단어별 연관성 확인\n",
    "from sklearn.metrics.pairwise import cosine_similarity\n",
    "\n",
    "word_similarity = cosine_similarity(word_contexts)\n",
    "print(f'단어별 연관성 : {word_similarity.shape}')\n",
    "\n",
    "# 단어별 연관성 확인\n",
    "for idx, word in enumerate(idx2vocab):\n",
    "    print(f'[{idx}] - {word}')\n",
    "    if idx == 10: break"
   ]
  },
  {
   "cell_type": "code",
   "execution_count": null,
   "metadata": {},
   "outputs": [],
   "source": [
    "# 단어별 연관성 확인\n",
    "idx = idx2vocab.index('국민')\n",
    "print(f'국민 - {word_similarity[idx]}')\n",
    "\n",
    "# 높은 연관성 단어 확인\n",
    "idx = idx2vocab.index('임금')\n",
    "similarity = word_similarity[idx]\n",
    "\n",
    "for i in similarity.argsort()[::-1][:10]:\n",
    "    print(f'{idx2vocab[i]} - {similarity[i]:.2f}')"
   ]
  },
  {
   "cell_type": "code",
   "execution_count": null,
   "metadata": {},
   "outputs": [],
   "source": []
  },
  {
   "cell_type": "code",
   "execution_count": null,
   "metadata": {},
   "outputs": [],
   "source": []
  }
 ],
 "metadata": {
  "kernelspec": {
   "display_name": "Torch_NLP",
   "language": "python",
   "name": "python3"
  },
  "language_info": {
   "codemirror_mode": {
    "name": "ipython",
    "version": 3
   },
   "file_extension": ".py",
   "mimetype": "text/x-python",
   "name": "python",
   "nbconvert_exporter": "python",
   "pygments_lexer": "ipython3",
   "version": "3.8.19"
  }
 },
 "nbformat": 4,
 "nbformat_minor": 2
}
