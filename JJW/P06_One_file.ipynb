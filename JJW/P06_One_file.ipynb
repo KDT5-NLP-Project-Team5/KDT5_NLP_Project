{
 "cells": [
  {
   "cell_type": "markdown",
   "metadata": {},
   "source": [
    "#### 한 파일로 만들기"
   ]
  },
  {
   "cell_type": "code",
   "execution_count": 1,
   "metadata": {},
   "outputs": [],
   "source": [
    "# 폴더 내 파일을 하나로 만들기\n",
    "import os\n",
    "import sys\n",
    "import re\n",
    "from os import listdir\n",
    "from os.path import isfile, join"
   ]
  },
  {
   "cell_type": "markdown",
   "metadata": {},
   "source": [
    "### 전처리 없이 한 파일로 만들기"
   ]
  },
  {
   "cell_type": "code",
   "execution_count": 5,
   "metadata": {},
   "outputs": [
    {
     "name": "stdout",
     "output_type": "stream",
     "text": [
      "['태조 1년 10월 10일 무오 1번째기사1392년.txt', '태조 1년 10월 10일 무오 2번째기사1392년.txt', '태조 1년 10월 11일 기미 1번째기사1392년.txt', '태조 1년 10월 12일 경신 1번째기사1392년.txt', '태조 1년 10월 12일 경신 2번째기사1392년.txt']\n",
      "작업 완료\n"
     ]
    }
   ],
   "source": [
    "# '../DATA/k1/' 폴더 내 모든 파일을 한 파일로 만들기\n",
    "import os\n",
    "from os import listdir\n",
    "from os.path import isfile, join\n",
    "\n",
    "path = '../DATA/k1/'\n",
    "\n",
    "# 파일 목록 가져오기\n",
    "files = [f for f in listdir(path) if isfile(join(path, f))]\n",
    "print(files[:5])\n",
    "\n",
    "# 파일 내용을 한 파일로 합치기\n",
    "with open('../DATA/k1_all.txt', 'w') as f:\n",
    "    for file in files:\n",
    "        with open(path + file) as f2:\n",
    "            # 파일명을 주석으로 추가\n",
    "            file_name = ''\n",
    "            for word in file:\n",
    "                file_name += word\n",
    "                if word == '일':\n",
    "                    break\n",
    "            \n",
    "            f.write('# ' + file_name + '\\n')\n",
    "            f.write(f2.read())\n",
    "            f.write('\\n')\n",
    "            \n",
    "print('작업 완료')"
   ]
  },
  {
   "cell_type": "markdown",
   "metadata": {},
   "source": [
    "### 전처리 그대로 가져오기"
   ]
  },
  {
   "cell_type": "code",
   "execution_count": null,
   "metadata": {},
   "outputs": [],
   "source": [
    "\n",
    "path = '../DATA/k1/king1/'\n",
    "\n",
    "def preprocessing(path):\n",
    "    \n",
    "    files = [f for f in listdir(path) if isfile(join(path, f))]\n",
    "\n",
    "    stopwords = ['을', '를', '이', '가']\n",
    "\n",
    "    for file in files:\n",
    "        print(file, type(file))\n",
    "        with open(path + file, 'r', encoding='utf-8') as f:\n",
    "            data = f.read()\n",
    "    # print(data)\n",
    "    # 【기호 이후로 제거\n",
    "        data_n = []\n",
    "        for word in token_okt(data):    # 그냥 이거로 쓰자\n",
    "            if word == '【':\n",
    "                break\n",
    "            else:\n",
    "                data_n.append(word)\n",
    "    \n",
    "    # 전처리\n",
    "    # 정규표현식으로 한글 . , ' \"만 추출\n",
    "        data_n = [[token for token in doc if re.match(r'^[가-힣.,\\'\\\"]+$', token)] for doc in [data_n]]\n",
    "        print(data_n)\n",
    "    \n",
    "    # 불용어 제거\n",
    "    # data_n = [[token for token in doc if token not in stopwords] for doc in data_n]\n",
    "    \n",
    "    # 파일 저장\n",
    "    # - 파일명 변경\n",
    "        file_name = ''\n",
    "        for word in file:\n",
    "            file_name += word\n",
    "            if word == '일':\n",
    "                break\n",
    "        print(file_name)\n",
    "    \n",
    "    # - 파일 날짜 추출\n",
    "        print(file_name.split()[-4:])\n",
    "        file_date = ' '.join(file_name.split()[-4:])\n",
    "        print(file_date)\n",
    "    \n",
    "    # - 파일 저장\n",
    "        directory = path + 'new/'\n",
    "        if not os.path.exists(directory):\n",
    "            os.makedirs(directory)\n",
    "        with open(directory + file_name + '.txt', 'a', encoding='utf-8') as f:\n",
    "            f.write(' '.join(data_n[0]))\n",
    "            f.write('\\n\\n')"
   ]
  },
  {
   "cell_type": "code",
   "execution_count": null,
   "metadata": {},
   "outputs": [],
   "source": []
  },
  {
   "cell_type": "code",
   "execution_count": null,
   "metadata": {},
   "outputs": [],
   "source": []
  },
  {
   "cell_type": "code",
   "execution_count": null,
   "metadata": {},
   "outputs": [],
   "source": []
  },
  {
   "cell_type": "code",
   "execution_count": null,
   "metadata": {},
   "outputs": [],
   "source": []
  },
  {
   "cell_type": "code",
   "execution_count": null,
   "metadata": {},
   "outputs": [],
   "source": []
  }
 ],
 "metadata": {
  "kernelspec": {
   "display_name": "Torch_NLP",
   "language": "python",
   "name": "python3"
  },
  "language_info": {
   "codemirror_mode": {
    "name": "ipython",
    "version": 3
   },
   "file_extension": ".py",
   "mimetype": "text/x-python",
   "name": "python",
   "nbconvert_exporter": "python",
   "pygments_lexer": "ipython3",
   "version": "3.8.19"
  }
 },
 "nbformat": 4,
 "nbformat_minor": 2
}
