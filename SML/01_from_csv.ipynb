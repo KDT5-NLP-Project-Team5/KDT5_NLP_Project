{
 "cells": [
  {
   "cell_type": "code",
   "execution_count": 5,
   "metadata": {},
   "outputs": [],
   "source": [
    "import pandas as pd\n",
    "\n",
    "king00 = pd.read_csv('josuncsv/king_0.csv',  sep=';')\n",
    "king01 = pd.read_csv('josuncsv/king_1.csv',  sep=';')\n",
    "king02 = pd.read_csv('josuncsv/king_2.csv',  sep=';')\n",
    "king03 = pd.read_csv('josuncsv/king_3.csv',  sep=';')\n",
    "king04 = pd.read_csv('josuncsv/king_4.csv',  sep=';')\n",
    "king05 = pd.read_csv('josuncsv/king_5.csv',  sep=';')\n",
    "king06 = pd.read_csv('josuncsv/king_6.csv',  sep=';')\n",
    "king07 = pd.read_csv('josuncsv/king_7.csv',  sep=';')\n",
    "king08 = pd.read_csv('josuncsv/king_8.csv',  sep=';')\n",
    "king09 = pd.read_csv('josuncsv/king_9.csv',  sep=';')\n",
    "king10 = pd.read_csv('josuncsv/king_10.csv',  sep=';')\n",
    "king11 = pd.read_csv('josuncsv/king_11.csv',  sep=';')\n",
    "king12 = pd.read_csv('josuncsv/king_12.csv',  sep=';')\n",
    "king13 = pd.read_csv('josuncsv/king_13.csv',  sep=';')\n",
    "king14 = pd.read_csv('josuncsv/king_14.csv',  sep=';')\n",
    "king15 = pd.read_csv('josuncsv/king_15.csv',  sep=';')\n",
    "king16 = pd.read_csv('josuncsv/king_16.csv',  sep=';')\n",
    "king17 = pd.read_csv('josuncsv/king_17.csv',  sep=';')\n",
    "king18 = pd.read_csv('josuncsv/king_18.csv',  sep=';')\n",
    "king19 = pd.read_csv('josuncsv/king_19.csv',  sep=';')\n",
    "king20 = pd.read_csv('josuncsv/king_20.csv',  sep=';')\n",
    "king21 = pd.read_csv('josuncsv/king_21.csv',  sep=';')\n",
    "king22 = pd.read_csv('josuncsv/king_22.csv',  sep=';')\n",
    "king23 = pd.read_csv('josuncsv/king_23.csv',  sep=';')\n",
    "king24 = pd.read_csv('josuncsv/king_24.csv',  sep=';')\n"
   ]
  },
  {
   "cell_type": "code",
   "execution_count": 6,
   "metadata": {},
   "outputs": [],
   "source": [
    "import pandas as pd\n",
    "\n",
    "dfs = [king00, king01, king02, king03, king04, king05, king06, king07,\n",
    "       king08, king09, king10, king11, king12, king13, king14, king15,\n",
    "       king16, king17, king18, king19, king20, king21, king22, king23, \n",
    "       king24]\n",
    "\n",
    "kingtotal = pd.concat(dfs, ignore_index=True)  \n",
    "\n",
    "kingtotal.to_csv('kingtotal.csv', sep=';', index=False) "
   ]
  },
  {
   "cell_type": "code",
   "execution_count": 34,
   "metadata": {},
   "outputs": [
    {
     "data": {
      "text/plain": [
       "0                                   임금 수 창궁 壽昌宮 거둥 하였다\n",
       "1    이조 전서 吏曹典書 유양 柳亮 등 상언 上言 하였다 문무 양반 文武兩班 의 정안 政...\n",
       "2    임금 탄생 일이 므 여러 신하 조하 朝賀 를 받고 사형 死刑 과 유형 流刑 이하 죄...\n",
       "3    우현 보 禹玄寶 이색 李穡 설장수 偰長壽 등 30 인 외방 外方 종편 從便 하고 이...\n",
       "4    공부 상정 도감 貢賦詳定都監 159 상서 上書 하였다 삼가 생각 하옵건대 전하 殿下...\n",
       "Name: text_okt, dtype: object"
      ]
     },
     "execution_count": 34,
     "metadata": {},
     "output_type": "execute_result"
    }
   ],
   "source": [
    "from konlpy.tag import Okt\n",
    "\n",
    "# OKT 객체 생성\n",
    "okt = Okt()\n",
    "\n",
    "# king00 DF의 Text 컬럼 전처리\n",
    "def okt_preprocess(text):\n",
    "    tokens = okt.pos(text)\n",
    "    filtered_words = [token[0] for token in tokens if not token[1] in ['Josa', 'Punctuation', 'Suffix', 'Unknown']] # Adjust filtering as needed \n",
    "    return ' '.join(filtered_words)\n",
    "\n",
    "king00['text_okt'] = king00['text'].apply(okt_preprocess)\n",
    "\n",
    "# 결과 확인\n",
    "king00['text_okt'].head()\n"
   ]
  },
  {
   "cell_type": "code",
   "execution_count": 22,
   "metadata": {},
   "outputs": [
    {
     "data": {
      "text/plain": [
       "\"Token(form='임금', tag='NNG', start=0, len=2) Token(form='이', tag='JKS', start=2, len=1) Token(form='수창', tag='NNP', start=4, len=2) Token(form='궁', tag='NNG', start=6, len=1) Token(form='(', tag='SSO', start=7, len=1) Token(form='壽昌宮', tag='SH', start=8, len=3) Token(form=')', tag='SSC', start=11, len=1) Token(form='에', tag='JKB', start=12, len=1) Token(form='거둥', tag='NNG', start=14, len=2) Token(form='하', tag='XSV', start=16, len=1) Token(form='었', tag='EP', start=17, len=1) Token(form='다', tag='EF', start=18, len=1) Token(form='.', tag='SF', start=19, len=1)\""
      ]
     },
     "execution_count": 22,
     "metadata": {},
     "output_type": "execute_result"
    }
   ],
   "source": [
    "from kiwipiepy import Kiwi\n",
    "\n",
    "kiwi = Kiwi()\n",
    "\n",
    "# king00 DF의 Text 컬럼 전처리\n",
    "def kiwi_preprocess(text):\n",
    "    tokens = kiwi.tokenize(text)\n",
    "    return ' '.join([str(token) for token in tokens]) # Convert tokens to strings\n",
    "\n",
    "king00['text_kiwi'] = king00['text'].apply(kiwi_preprocess)\n",
    "\n",
    "# 결과 확인\n",
    "king00['text_kiwi'][0]\n",
    "\n"
   ]
  },
  {
   "cell_type": "code",
   "execution_count": 33,
   "metadata": {},
   "outputs": [
    {
     "data": {
      "text/plain": [
       "0       Token(form='임금', tag='NNG', start=0, len=2) To...\n",
       "1       Token(form='이조', tag='NNP', start=14, len=2) T...\n",
       "2       Token(form='임금', tag='NNG', start=0, len=2) To...\n",
       "3       Token(form='우현', tag='NNP', start=1, len=2) To...\n",
       "4       Token(form='공부', tag='NNG', start=0, len=2) To...\n",
       "                              ...                        \n",
       "2247    Token(form='사노', tag='NNG', start=0, len=2) To...\n",
       "2248    Token(form='비', tag='NNG', start=0, len=1) Tok...\n",
       "2249    Token(form='비', tag='NNG', start=0, len=1) Tok...\n",
       "2250    Token(form='임금', tag='NNG', start=0, len=2) To...\n",
       "2251    Token(form='사신', tag='NNG', start=0, len=2) To...\n",
       "Name: text_kiwi, Length: 2252, dtype: object"
      ]
     },
     "execution_count": 33,
     "metadata": {},
     "output_type": "execute_result"
    }
   ],
   "source": [
    "king00['text_kiwi']"
   ]
  },
  {
   "cell_type": "code",
   "execution_count": null,
   "metadata": {},
   "outputs": [],
   "source": []
  }
 ],
 "metadata": {
  "kernelspec": {
   "display_name": "Torch_NLP38",
   "language": "python",
   "name": "python3"
  },
  "language_info": {
   "codemirror_mode": {
    "name": "ipython",
    "version": 3
   },
   "file_extension": ".py",
   "mimetype": "text/x-python",
   "name": "python",
   "nbconvert_exporter": "python",
   "pygments_lexer": "ipython3",
   "version": "3.8.19"
  }
 },
 "nbformat": 4,
 "nbformat_minor": 2
}
